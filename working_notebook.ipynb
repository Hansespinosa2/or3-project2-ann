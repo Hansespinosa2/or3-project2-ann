{
 "cells": [
  {
   "cell_type": "code",
   "execution_count": 2,
   "metadata": {},
   "outputs": [],
   "source": [
    "import pandas as pd\n",
    "import numpy as np"
   ]
  },
  {
   "cell_type": "markdown",
   "metadata": {},
   "source": [
    "# Data Handling"
   ]
  },
  {
   "cell_type": "markdown",
   "metadata": {},
   "source": [
    "## Loading in data"
   ]
  },
  {
   "cell_type": "code",
   "execution_count": 3,
   "metadata": {},
   "outputs": [
    {
     "data": {
      "text/plain": [
       "((12699, 784), (2166, 784), (12699,), (2166,))"
      ]
     },
     "execution_count": 3,
     "metadata": {},
     "output_type": "execute_result"
    }
   ],
   "source": [
    "X_train = np.loadtxt('data/train_data_set.csv', delimiter=',', skiprows=1)\n",
    "X_test = np.loadtxt('data/test_data_set.csv', delimiter=',', skiprows=1)\n",
    "y_train = np.loadtxt('data/train_label_set.csv', delimiter=',', skiprows=1).ravel()\n",
    "y_test = np.loadtxt('data/test_label_set.csv', delimiter=',', skiprows=1).ravel()\n",
    "X_train.shape, X_test.shape, y_train.shape, y_test.shape"
   ]
  },
  {
   "cell_type": "markdown",
   "metadata": {},
   "source": [
    "## Testing the function"
   ]
  },
  {
   "cell_type": "code",
   "execution_count": 1,
   "metadata": {},
   "outputs": [
    {
     "data": {
      "text/plain": [
       "((12699, 784), (2166, 784), (12699,), (2166,))"
      ]
     },
     "execution_count": 1,
     "metadata": {},
     "output_type": "execute_result"
    }
   ],
   "source": [
    "from handle_data import load_data\n",
    "X_train, y_train, X_test, y_test = load_data('data')\n",
    "X_train.shape, X_test.shape, y_train.shape, y_test.shape"
   ]
  },
  {
   "cell_type": "markdown",
   "metadata": {},
   "source": [
    "## Exploring the data"
   ]
  },
  {
   "cell_type": "code",
   "execution_count": null,
   "metadata": {},
   "outputs": [
    {
     "data": {
      "text/plain": [
       "Text(0.5, 1.0, '0.0')"
      ]
     },
     "execution_count": 25,
     "metadata": {},
     "output_type": "execute_result"
    },
    {
     "data": {
      "image/png": "[encoded data removed]",
      "text/plain": [
       "<Figure size 640x480 with 1 Axes>"
      ]
     },
     "metadata": {},
     "output_type": "display_data"
    }
   ],
   "source": [
    "import matplotlib.pyplot as plt\n",
    "plt.imshow(X_train[1100].reshape((28,28)),cmap='binary')\n",
    "plt.title(f'{y_train[1100]}')"
   ]
  },
  {
   "cell_type": "markdown",
   "metadata": {},
   "source": [
    "# Machine Learning"
   ]
  },
  {
   "cell_type": "markdown",
   "metadata": {},
   "source": [
    "## Testing the ml.py"
   ]
  },
  {
   "cell_type": "code",
   "execution_count": 6,
   "metadata": {},
   "outputs": [
    {
     "data": {
      "text/plain": [
       "((10, 12699), (100, 784), (784, 12699), (100, 1))"
      ]
     },
     "execution_count": 6,
     "metadata": {},
     "output_type": "execute_result"
    }
   ],
   "source": [
    "from handle_data import load_data\n",
    "import ml as ml\n",
    "import numpy as np\n",
    "\n",
    "X_train, y_train, X_test, y_test = load_data('data')\n",
    "\n",
    "input_size = X_train.shape[1]\n",
    "\n",
    "zeroth_layer = ml.Layer(input_size, input_size)\n",
    "first_layer = ml.Layer(input_size, 100)\n",
    "second_layer = ml.Layer(100,10)\n",
    "third_layer = ml.Layer(10,1)\n",
    "\n",
    "a_0 = zeroth_layer.forward(X_train.T)\n",
    "a_1 = first_layer.forward(a_0)\n",
    "a_2 = second_layer.forward(a_1)\n",
    "a_3 = third_layer.forward(a_2)\n",
    "\n",
    "\n",
    "\n",
    "a_2.shape, first_layer.W.shape, a_0.shape, first_layer.b.shape"
   ]
  },
  {
   "cell_type": "code",
   "execution_count": 5,
   "metadata": {},
   "outputs": [
    {
     "name": "stdout",
     "output_type": "stream",
     "text": [
      "Epoch 0; Loss [20.72873284]\n",
      "Epoch 100; Loss [18.80523465]\n",
      "Epoch 200; Loss [17.14192465]\n",
      "Epoch 300; Loss [15.69516387]\n",
      "Epoch 400; Loss [14.41690319]\n",
      "Epoch 500; Loss [13.29188617]\n",
      "Epoch 600; Loss [12.30019126]\n",
      "Epoch 700; Loss [11.42264084]\n",
      "Epoch 800; Loss [10.63959009]\n",
      "Epoch 900; Loss [9.93997136]\n"
     ]
    }
   ],
   "source": [
    "from handle_data import load_data\n",
    "import ml as ml\n",
    "import numpy as np\n",
    "\n",
    "X_train, y_train, X_test, y_test = load_data('data')\n",
    "\n",
    "input_size = X_train.shape[1]\n",
    "\n",
    "model = ml.NeuralNetwork([input_size, 100, 100, 1], ['relu', 'relu', 'relu'])\n",
    "model.train(X_train.T, y_train.reshape(1,-1))"
   ]
  },
  {
   "cell_type": "code",
   "execution_count": null,
   "metadata": {},
   "outputs": [
    {
     "data": {
      "text/plain": [
       "array([[ 0.21918653, -0.07121327,  0.65915759, ...,  2.19264004,\n",
       "        -0.71116694,  0.26131045],\n",
       "       [ 0.00561782,  0.24676201,  0.51828443, ..., -1.2208049 ,\n",
       "         0.30997076,  0.58690557],\n",
       "       [-1.21310763, -0.80049608,  0.4166169 , ..., -0.4572495 ,\n",
       "         0.21657973,  0.70579513],\n",
       "       ...,\n",
       "       [-0.37032883,  1.2658115 , -0.07304047, ..., -2.33656366,\n",
       "         0.81059206, -0.47805766],\n",
       "       [ 2.14923063, -0.3541437 , -0.76350258, ...,  0.94898894,\n",
       "         1.75846102, -0.26513295],\n",
       "       [-0.73558498, -0.71477686, -0.43059809, ...,  1.53073806,\n",
       "        -0.51502307,  0.53798029]])"
      ]
     },
     "execution_count": 3,
     "metadata": {},
     "output_type": "execute_result"
    }
   ],
   "source": []
  },
  {
   "cell_type": "code",
   "execution_count": null,
   "metadata": {},
   "outputs": [],
   "source": []
  }
 ],
 "metadata": {
  "kernelspec": {
   "display_name": "Python 3",
   "language": "python",
   "name": "python3"
  },
  "language_info": {
   "codemirror_mode": {
    "name": "ipython",
    "version": 3
   },
   "file_extension": ".py",
   "mimetype": "text/x-python",
   "name": "python",
   "nbconvert_exporter": "python",
   "pygments_lexer": "ipython3",
   "version": "3.10.11"
  }
 },
 "nbformat": 4,
 "nbformat_minor": 2
}
